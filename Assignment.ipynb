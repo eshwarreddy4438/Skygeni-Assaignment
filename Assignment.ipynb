{
 "cells": [
  {
   "cell_type": "code",
   "execution_count": 3,
   "id": "e868b7ef-23ec-4cf4-b945-4f282a8dd875",
   "metadata": {},
   "outputs": [],
   "source": [
    "import pandas as pd\n",
    "import matplotlib.pyplot as plt\n",
    "import seaborn as sns"
   ]
  },
  {
   "cell_type": "markdown",
   "id": "28f79f83-f2dd-4d77-a2e3-9ac6e8a8f755",
   "metadata": {},
   "source": [
    "## IMPORTING DATA SET"
   ]
  },
  {
   "cell_type": "code",
   "execution_count": 4,
   "id": "c693cb2a-0dc6-4e8b-97ad-cf66a8ba3c56",
   "metadata": {},
   "outputs": [],
   "source": [
    "df = pd.read_csv('GRE_Reg_Data.csv')"
   ]
  },
  {
   "cell_type": "code",
   "execution_count": 5,
   "id": "db6f4c34-7a66-4aa4-8a19-876c75465aa3",
   "metadata": {},
   "outputs": [
    {
     "data": {
      "text/html": [
       "<div>\n",
       "<style scoped>\n",
       "    .dataframe tbody tr th:only-of-type {\n",
       "        vertical-align: middle;\n",
       "    }\n",
       "\n",
       "    .dataframe tbody tr th {\n",
       "        vertical-align: top;\n",
       "    }\n",
       "\n",
       "    .dataframe thead th {\n",
       "        text-align: right;\n",
       "    }\n",
       "</style>\n",
       "<table border=\"1\" class=\"dataframe\">\n",
       "  <thead>\n",
       "    <tr style=\"text-align: right;\">\n",
       "      <th></th>\n",
       "      <th>REGISTRATION_NO</th>\n",
       "      <th>Date Registered</th>\n",
       "      <th>DATE OF EXAM OCC</th>\n",
       "      <th>TIME OCC</th>\n",
       "      <th>Age</th>\n",
       "      <th>Sex</th>\n",
       "    </tr>\n",
       "  </thead>\n",
       "  <tbody>\n",
       "    <tr>\n",
       "      <th>0</th>\n",
       "      <td>221412410</td>\n",
       "      <td>6/15/2022</td>\n",
       "      <td>11/12/2020</td>\n",
       "      <td>1700</td>\n",
       "      <td>0</td>\n",
       "      <td>NaN</td>\n",
       "    </tr>\n",
       "    <tr>\n",
       "      <th>1</th>\n",
       "      <td>220314085</td>\n",
       "      <td>7/22/2022</td>\n",
       "      <td>5/12/2020</td>\n",
       "      <td>1110</td>\n",
       "      <td>27</td>\n",
       "      <td>F</td>\n",
       "    </tr>\n",
       "    <tr>\n",
       "      <th>2</th>\n",
       "      <td>222013040</td>\n",
       "      <td>8/6/2022</td>\n",
       "      <td>6/4/2020</td>\n",
       "      <td>1620</td>\n",
       "      <td>60</td>\n",
       "      <td>M</td>\n",
       "    </tr>\n",
       "    <tr>\n",
       "      <th>3</th>\n",
       "      <td>220614831</td>\n",
       "      <td>8/18/2022</td>\n",
       "      <td>8/17/2020</td>\n",
       "      <td>1200</td>\n",
       "      <td>28</td>\n",
       "      <td>M</td>\n",
       "    </tr>\n",
       "    <tr>\n",
       "      <th>4</th>\n",
       "      <td>231207725</td>\n",
       "      <td>2/27/2023</td>\n",
       "      <td>1/27/2020</td>\n",
       "      <td>635</td>\n",
       "      <td>37</td>\n",
       "      <td>M</td>\n",
       "    </tr>\n",
       "  </tbody>\n",
       "</table>\n",
       "</div>"
      ],
      "text/plain": [
       "   REGISTRATION_NO Date Registered DATE OF EXAM OCC  TIME OCC  Age  Sex\n",
       "0        221412410       6/15/2022       11/12/2020      1700    0  NaN\n",
       "1        220314085       7/22/2022        5/12/2020      1110   27    F\n",
       "2        222013040        8/6/2022         6/4/2020      1620   60    M\n",
       "3        220614831       8/18/2022        8/17/2020      1200   28    M\n",
       "4        231207725       2/27/2023        1/27/2020       635   37    M"
      ]
     },
     "execution_count": 5,
     "metadata": {},
     "output_type": "execute_result"
    }
   ],
   "source": [
    "df.head()"
   ]
  },
  {
   "cell_type": "code",
   "execution_count": 6,
   "id": "2d4fbebe-40da-4e1a-954d-256f09144f78",
   "metadata": {},
   "outputs": [
    {
     "data": {
      "text/plain": [
       "(247988, 6)"
      ]
     },
     "execution_count": 6,
     "metadata": {},
     "output_type": "execute_result"
    }
   ],
   "source": [
    "df.shape"
   ]
  },
  {
   "cell_type": "code",
   "execution_count": 7,
   "id": "6b0b7a6a-073b-44bc-bd5a-452db21dec36",
   "metadata": {},
   "outputs": [
    {
     "name": "stdout",
     "output_type": "stream",
     "text": [
      "<class 'pandas.core.frame.DataFrame'>\n",
      "RangeIndex: 247988 entries, 0 to 247987\n",
      "Data columns (total 6 columns):\n",
      " #   Column            Non-Null Count   Dtype \n",
      "---  ------            --------------   ----- \n",
      " 0   REGISTRATION_NO   247988 non-null  int64 \n",
      " 1   Date Registered   247988 non-null  object\n",
      " 2   DATE OF EXAM OCC  247988 non-null  object\n",
      " 3   TIME OCC          247988 non-null  int64 \n",
      " 4   Age               247988 non-null  int64 \n",
      " 5   Sex               215740 non-null  object\n",
      "dtypes: int64(3), object(3)\n",
      "memory usage: 11.4+ MB\n"
     ]
    }
   ],
   "source": [
    "df.info()"
   ]
  },
  {
   "cell_type": "markdown",
   "id": "43909ff1-750a-47a0-ab4a-21876bfdee1b",
   "metadata": {},
   "source": [
    "## CHECKING NULL VALUES"
   ]
  },
  {
   "cell_type": "markdown",
   "id": "d2414ca2-400f-4838-8bf8-09ee9b4aa7e7",
   "metadata": {},
   "source": [
    "## NOTE - FROM GIVEN ASSAIGNMENT WE DOESNOT HAVE ANY RECQUIREMENT OF \"SEX\" COLUMN SO WE ARE INGORNING IT PRESENTLY"
   ]
  },
  {
   "cell_type": "code",
   "execution_count": 8,
   "id": "5e1be973-dfb6-46f4-8a1b-9370476db8f0",
   "metadata": {},
   "outputs": [
    {
     "data": {
      "text/plain": [
       "REGISTRATION_NO         0\n",
       "Date Registered         0\n",
       "DATE OF EXAM OCC        0\n",
       "TIME OCC                0\n",
       "Age                     0\n",
       "Sex                 32248\n",
       "dtype: int64"
      ]
     },
     "execution_count": 8,
     "metadata": {},
     "output_type": "execute_result"
    }
   ],
   "source": [
    "df.isnull().sum()"
   ]
  },
  {
   "cell_type": "code",
   "execution_count": 9,
   "id": "c7c90655-724c-4f7a-803d-8825cd1e4a70",
   "metadata": {},
   "outputs": [
    {
     "data": {
      "text/plain": [
       "Sex\n",
       "M    101028\n",
       "F     90804\n",
       "X     23877\n",
       "H        30\n",
       "-         1\n",
       "Name: count, dtype: int64"
      ]
     },
     "execution_count": 9,
     "metadata": {},
     "output_type": "execute_result"
    }
   ],
   "source": [
    "df['Sex'].value_counts()"
   ]
  },
  {
   "cell_type": "markdown",
   "id": "4a1571d4-f9b0-4f48-9a5c-67c3160d01dc",
   "metadata": {},
   "source": [
    "## Which hour has the highest frequency of candidates scheduled to take up exams? Show the plot diagram of the frequencies."
   ]
  },
  {
   "cell_type": "markdown",
   "id": "9f2c6bbf-932d-44a6-a78b-99b67d009f0a",
   "metadata": {},
   "source": [
    "### CHANGING TIME FORMAT FROM '1000' INTO '10.00'"
   ]
  },
  {
   "cell_type": "code",
   "execution_count": 10,
   "id": "dc4f3b9a-6ff1-4aeb-ac6c-7f141697a6f2",
   "metadata": {},
   "outputs": [],
   "source": [
    "df['TIME OCC'] = df['TIME OCC'].apply(lambda x: str(x).zfill(4))\n",
    "\n",
    "# Convert to datetime object\n",
    "df['TIME OCC'] = pd.to_datetime(df['TIME OCC'], format='%H%M')\n",
    "\n",
    "# Format to 24-hour time with decimal point\n",
    "df['TIME OCC'] = df['TIME OCC'].dt.strftime('%H.%M')"
   ]
  },
  {
   "cell_type": "code",
   "execution_count": 11,
   "id": "bd4ce857-b3dd-4102-a27f-61de94988584",
   "metadata": {},
   "outputs": [
    {
     "data": {
      "text/html": [
       "<div>\n",
       "<style scoped>\n",
       "    .dataframe tbody tr th:only-of-type {\n",
       "        vertical-align: middle;\n",
       "    }\n",
       "\n",
       "    .dataframe tbody tr th {\n",
       "        vertical-align: top;\n",
       "    }\n",
       "\n",
       "    .dataframe thead th {\n",
       "        text-align: right;\n",
       "    }\n",
       "</style>\n",
       "<table border=\"1\" class=\"dataframe\">\n",
       "  <thead>\n",
       "    <tr style=\"text-align: right;\">\n",
       "      <th></th>\n",
       "      <th>REGISTRATION_NO</th>\n",
       "      <th>Date Registered</th>\n",
       "      <th>DATE OF EXAM OCC</th>\n",
       "      <th>TIME OCC</th>\n",
       "      <th>Age</th>\n",
       "      <th>Sex</th>\n",
       "    </tr>\n",
       "  </thead>\n",
       "  <tbody>\n",
       "    <tr>\n",
       "      <th>0</th>\n",
       "      <td>221412410</td>\n",
       "      <td>6/15/2022</td>\n",
       "      <td>11/12/2020</td>\n",
       "      <td>17.00</td>\n",
       "      <td>0</td>\n",
       "      <td>NaN</td>\n",
       "    </tr>\n",
       "    <tr>\n",
       "      <th>1</th>\n",
       "      <td>220314085</td>\n",
       "      <td>7/22/2022</td>\n",
       "      <td>5/12/2020</td>\n",
       "      <td>11.10</td>\n",
       "      <td>27</td>\n",
       "      <td>F</td>\n",
       "    </tr>\n",
       "    <tr>\n",
       "      <th>2</th>\n",
       "      <td>222013040</td>\n",
       "      <td>8/6/2022</td>\n",
       "      <td>6/4/2020</td>\n",
       "      <td>16.20</td>\n",
       "      <td>60</td>\n",
       "      <td>M</td>\n",
       "    </tr>\n",
       "    <tr>\n",
       "      <th>3</th>\n",
       "      <td>220614831</td>\n",
       "      <td>8/18/2022</td>\n",
       "      <td>8/17/2020</td>\n",
       "      <td>12.00</td>\n",
       "      <td>28</td>\n",
       "      <td>M</td>\n",
       "    </tr>\n",
       "    <tr>\n",
       "      <th>4</th>\n",
       "      <td>231207725</td>\n",
       "      <td>2/27/2023</td>\n",
       "      <td>1/27/2020</td>\n",
       "      <td>06.35</td>\n",
       "      <td>37</td>\n",
       "      <td>M</td>\n",
       "    </tr>\n",
       "    <tr>\n",
       "      <th>...</th>\n",
       "      <td>...</td>\n",
       "      <td>...</td>\n",
       "      <td>...</td>\n",
       "      <td>...</td>\n",
       "      <td>...</td>\n",
       "      <td>...</td>\n",
       "    </tr>\n",
       "    <tr>\n",
       "      <th>247983</th>\n",
       "      <td>231510379</td>\n",
       "      <td>5/29/2023</td>\n",
       "      <td>5/25/2023</td>\n",
       "      <td>11.00</td>\n",
       "      <td>25</td>\n",
       "      <td>M</td>\n",
       "    </tr>\n",
       "    <tr>\n",
       "      <th>247984</th>\n",
       "      <td>231604807</td>\n",
       "      <td>1/27/2023</td>\n",
       "      <td>1/26/2023</td>\n",
       "      <td>18.00</td>\n",
       "      <td>23</td>\n",
       "      <td>M</td>\n",
       "    </tr>\n",
       "    <tr>\n",
       "      <th>247985</th>\n",
       "      <td>231606525</td>\n",
       "      <td>3/22/2023</td>\n",
       "      <td>3/22/2023</td>\n",
       "      <td>10.00</td>\n",
       "      <td>25</td>\n",
       "      <td>F</td>\n",
       "    </tr>\n",
       "    <tr>\n",
       "      <th>247986</th>\n",
       "      <td>231210064</td>\n",
       "      <td>4/12/2023</td>\n",
       "      <td>4/12/2023</td>\n",
       "      <td>16.30</td>\n",
       "      <td>29</td>\n",
       "      <td>M</td>\n",
       "    </tr>\n",
       "    <tr>\n",
       "      <th>247987</th>\n",
       "      <td>230906458</td>\n",
       "      <td>3/5/2023</td>\n",
       "      <td>3/5/2023</td>\n",
       "      <td>09.00</td>\n",
       "      <td>53</td>\n",
       "      <td>F</td>\n",
       "    </tr>\n",
       "  </tbody>\n",
       "</table>\n",
       "<p>247988 rows × 6 columns</p>\n",
       "</div>"
      ],
      "text/plain": [
       "        REGISTRATION_NO Date Registered DATE OF EXAM OCC TIME OCC  Age  Sex\n",
       "0             221412410       6/15/2022       11/12/2020    17.00    0  NaN\n",
       "1             220314085       7/22/2022        5/12/2020    11.10   27    F\n",
       "2             222013040        8/6/2022         6/4/2020    16.20   60    M\n",
       "3             220614831       8/18/2022        8/17/2020    12.00   28    M\n",
       "4             231207725       2/27/2023        1/27/2020    06.35   37    M\n",
       "...                 ...             ...              ...      ...  ...  ...\n",
       "247983        231510379       5/29/2023        5/25/2023    11.00   25    M\n",
       "247984        231604807       1/27/2023        1/26/2023    18.00   23    M\n",
       "247985        231606525       3/22/2023        3/22/2023    10.00   25    F\n",
       "247986        231210064       4/12/2023        4/12/2023    16.30   29    M\n",
       "247987        230906458        3/5/2023         3/5/2023    09.00   53    F\n",
       "\n",
       "[247988 rows x 6 columns]"
      ]
     },
     "execution_count": 11,
     "metadata": {},
     "output_type": "execute_result"
    }
   ],
   "source": [
    "df"
   ]
  },
  {
   "cell_type": "code",
   "execution_count": 13,
   "id": "aa41f89f-4571-429d-8f5d-f18d5efe22e5",
   "metadata": {},
   "outputs": [],
   "source": [
    "df['hour'] = df['TIME OCC'].apply(lambda x: int(str(x).split('.')[0]))"
   ]
  },
  {
   "cell_type": "code",
   "execution_count": 14,
   "id": "0120cac4-0bde-4c3f-a394-ccf18dce88eb",
   "metadata": {},
   "outputs": [
    {
     "data": {
      "text/html": [
       "<div>\n",
       "<style scoped>\n",
       "    .dataframe tbody tr th:only-of-type {\n",
       "        vertical-align: middle;\n",
       "    }\n",
       "\n",
       "    .dataframe tbody tr th {\n",
       "        vertical-align: top;\n",
       "    }\n",
       "\n",
       "    .dataframe thead th {\n",
       "        text-align: right;\n",
       "    }\n",
       "</style>\n",
       "<table border=\"1\" class=\"dataframe\">\n",
       "  <thead>\n",
       "    <tr style=\"text-align: right;\">\n",
       "      <th></th>\n",
       "      <th>REGISTRATION_NO</th>\n",
       "      <th>Date Registered</th>\n",
       "      <th>DATE OF EXAM OCC</th>\n",
       "      <th>TIME OCC</th>\n",
       "      <th>Age</th>\n",
       "      <th>Sex</th>\n",
       "      <th>hour</th>\n",
       "    </tr>\n",
       "  </thead>\n",
       "  <tbody>\n",
       "    <tr>\n",
       "      <th>0</th>\n",
       "      <td>221412410</td>\n",
       "      <td>6/15/2022</td>\n",
       "      <td>11/12/2020</td>\n",
       "      <td>17.00</td>\n",
       "      <td>0</td>\n",
       "      <td>NaN</td>\n",
       "      <td>17</td>\n",
       "    </tr>\n",
       "    <tr>\n",
       "      <th>1</th>\n",
       "      <td>220314085</td>\n",
       "      <td>7/22/2022</td>\n",
       "      <td>5/12/2020</td>\n",
       "      <td>11.10</td>\n",
       "      <td>27</td>\n",
       "      <td>F</td>\n",
       "      <td>11</td>\n",
       "    </tr>\n",
       "    <tr>\n",
       "      <th>2</th>\n",
       "      <td>222013040</td>\n",
       "      <td>8/6/2022</td>\n",
       "      <td>6/4/2020</td>\n",
       "      <td>16.20</td>\n",
       "      <td>60</td>\n",
       "      <td>M</td>\n",
       "      <td>16</td>\n",
       "    </tr>\n",
       "    <tr>\n",
       "      <th>3</th>\n",
       "      <td>220614831</td>\n",
       "      <td>8/18/2022</td>\n",
       "      <td>8/17/2020</td>\n",
       "      <td>12.00</td>\n",
       "      <td>28</td>\n",
       "      <td>M</td>\n",
       "      <td>12</td>\n",
       "    </tr>\n",
       "    <tr>\n",
       "      <th>4</th>\n",
       "      <td>231207725</td>\n",
       "      <td>2/27/2023</td>\n",
       "      <td>1/27/2020</td>\n",
       "      <td>06.35</td>\n",
       "      <td>37</td>\n",
       "      <td>M</td>\n",
       "      <td>6</td>\n",
       "    </tr>\n",
       "    <tr>\n",
       "      <th>...</th>\n",
       "      <td>...</td>\n",
       "      <td>...</td>\n",
       "      <td>...</td>\n",
       "      <td>...</td>\n",
       "      <td>...</td>\n",
       "      <td>...</td>\n",
       "      <td>...</td>\n",
       "    </tr>\n",
       "    <tr>\n",
       "      <th>247983</th>\n",
       "      <td>231510379</td>\n",
       "      <td>5/29/2023</td>\n",
       "      <td>5/25/2023</td>\n",
       "      <td>11.00</td>\n",
       "      <td>25</td>\n",
       "      <td>M</td>\n",
       "      <td>11</td>\n",
       "    </tr>\n",
       "    <tr>\n",
       "      <th>247984</th>\n",
       "      <td>231604807</td>\n",
       "      <td>1/27/2023</td>\n",
       "      <td>1/26/2023</td>\n",
       "      <td>18.00</td>\n",
       "      <td>23</td>\n",
       "      <td>M</td>\n",
       "      <td>18</td>\n",
       "    </tr>\n",
       "    <tr>\n",
       "      <th>247985</th>\n",
       "      <td>231606525</td>\n",
       "      <td>3/22/2023</td>\n",
       "      <td>3/22/2023</td>\n",
       "      <td>10.00</td>\n",
       "      <td>25</td>\n",
       "      <td>F</td>\n",
       "      <td>10</td>\n",
       "    </tr>\n",
       "    <tr>\n",
       "      <th>247986</th>\n",
       "      <td>231210064</td>\n",
       "      <td>4/12/2023</td>\n",
       "      <td>4/12/2023</td>\n",
       "      <td>16.30</td>\n",
       "      <td>29</td>\n",
       "      <td>M</td>\n",
       "      <td>16</td>\n",
       "    </tr>\n",
       "    <tr>\n",
       "      <th>247987</th>\n",
       "      <td>230906458</td>\n",
       "      <td>3/5/2023</td>\n",
       "      <td>3/5/2023</td>\n",
       "      <td>09.00</td>\n",
       "      <td>53</td>\n",
       "      <td>F</td>\n",
       "      <td>9</td>\n",
       "    </tr>\n",
       "  </tbody>\n",
       "</table>\n",
       "<p>247988 rows × 7 columns</p>\n",
       "</div>"
      ],
      "text/plain": [
       "        REGISTRATION_NO Date Registered DATE OF EXAM OCC TIME OCC  Age  Sex   \n",
       "0             221412410       6/15/2022       11/12/2020    17.00    0  NaN  \\\n",
       "1             220314085       7/22/2022        5/12/2020    11.10   27    F   \n",
       "2             222013040        8/6/2022         6/4/2020    16.20   60    M   \n",
       "3             220614831       8/18/2022        8/17/2020    12.00   28    M   \n",
       "4             231207725       2/27/2023        1/27/2020    06.35   37    M   \n",
       "...                 ...             ...              ...      ...  ...  ...   \n",
       "247983        231510379       5/29/2023        5/25/2023    11.00   25    M   \n",
       "247984        231604807       1/27/2023        1/26/2023    18.00   23    M   \n",
       "247985        231606525       3/22/2023        3/22/2023    10.00   25    F   \n",
       "247986        231210064       4/12/2023        4/12/2023    16.30   29    M   \n",
       "247987        230906458        3/5/2023         3/5/2023    09.00   53    F   \n",
       "\n",
       "        hour  \n",
       "0         17  \n",
       "1         11  \n",
       "2         16  \n",
       "3         12  \n",
       "4          6  \n",
       "...      ...  \n",
       "247983    11  \n",
       "247984    18  \n",
       "247985    10  \n",
       "247986    16  \n",
       "247987     9  \n",
       "\n",
       "[247988 rows x 7 columns]"
      ]
     },
     "execution_count": 14,
     "metadata": {},
     "output_type": "execute_result"
    }
   ],
   "source": [
    "df"
   ]
  },
  {
   "cell_type": "markdown",
   "id": "788d63ff-2f2d-4c74-a05e-0ae7ca0ecde0",
   "metadata": {},
   "source": [
    "## REQUIRED PLOT TO SHOW HIGHEST FREQUENCY OF HOUR WHERE CANDIDATE TOOK EXAM"
   ]
  },
  {
   "cell_type": "code",
   "execution_count": 15,
   "id": "3b63c4df-37a2-4020-b814-6891faaa04ae",
   "metadata": {},
   "outputs": [
    {
     "data": {
      "text/plain": [
       "<Axes: xlabel='hour'>"
      ]
     },
     "execution_count": 15,
     "metadata": {},
     "output_type": "execute_result"
    },
    {
     "data": {
      "image/png": "[encoded data removed]",
      "text/plain": [
       "<Figure size 640x480 with 1 Axes>"
      ]
     },
     "metadata": {},
     "output_type": "display_data"
    }
   ],
   "source": [
    "df['hour'].value_counts().plot(kind = 'bar')"
   ]
  },
  {
   "cell_type": "markdown",
   "id": "5b292041-8c21-4e42-822a-2782b3a5ac2e",
   "metadata": {},
   "source": [
    "## Conclusion - \n",
    "### 12th hour (time between 12.00 to 12.59) has the highest frequency of candidates scheduled to take up the exam"
   ]
  },
  {
   "cell_type": "markdown",
   "id": "badcad78-48bc-406a-b305-bc33a0d5ab26",
   "metadata": {},
   "source": [
    "## 2 . Create stacked bar graph of the number of candidates taken exam both at day and night (Day being 06:00 AM to 09:00 PM)"
   ]
  },
  {
   "cell_type": "code",
   "execution_count": 16,
   "id": "065dae5f-6cc4-4290-8b73-fa8497b9d586",
   "metadata": {},
   "outputs": [],
   "source": [
    "def convert_into_period(t):\n",
    "    if 6.00 <= t <= 21.00:\n",
    "        return 'Day'\n",
    "    else:\n",
    "        return 'Night'\n",
    "df['TIME OCC'] = df['TIME OCC'].astype('float')\n",
    "df['period'] = df['TIME OCC'].apply(convert_into_period)"
   ]
  },
  {
   "cell_type": "code",
   "execution_count": 20,
   "id": "826c4a6e-71b3-4b5b-90dd-0e00c50be0ac",
   "metadata": {},
   "outputs": [
    {
     "data": {
      "image/png": "[encoded data removed]",
      "text/plain": [
       "<Figure size 640x480 with 1 Axes>"
      ]
     },
     "metadata": {},
     "output_type": "display_data"
    }
   ],
   "source": [
    "fig, ax = plt.subplots()\n",
    "df['period'].value_counts().to_frame().T.plot(kind='bar', stacked=True, ax=ax, color=['green', 'orange'])\n",
    "\n",
    "ax.set_xticks([])\n",
    "\n",
    "plt.ylabel('Candidates taking exam')\n",
    "plt.show()\n"
   ]
  },
  {
   "cell_type": "markdown",
   "id": "ab73b3ea-6586-4b79-98e2-435ac8f672dc",
   "metadata": {},
   "source": [
    "## CONCLUSION - \n",
    "### From above graph we can conclude that Most of the Candidates exams are scheduled in Day"
   ]
  },
  {
   "cell_type": "markdown",
   "id": "4e939dbc-9602-409b-95a7-cc6eb9a7a945",
   "metadata": {},
   "source": [
    "## Identify the number of candidates scheduled to write exam in different age groups, with age group labels \"0-17\", \"18-25\", \"26-34\", \"35-44\", \"45-54\", \"55-64\", and \"65+\" as the index and the frequency of candidates scheduled as the values."
   ]
  },
  {
   "cell_type": "code",
   "execution_count": 24,
   "id": "1358d1aa-1929-44a5-9986-cceb670c0ff7",
   "metadata": {},
   "outputs": [],
   "source": [
    "b = [0, 17, 25, 34, 44, 54, 64, float('inf')]\n",
    "l = [\"0-17\", \"18-25\", \"26-34\", \"35-44\", \"45-54\", \"55-64\", \"65+\"]\n",
    "df['Age Group'] = pd.cut(df['Age'], bins=b, labels=l, right=False)"
   ]
  },
  {
   "cell_type": "code",
   "execution_count": 25,
   "id": "479082f7-64ce-4369-a152-a771e6a62f3a",
   "metadata": {},
   "outputs": [
    {
     "data": {
      "text/html": [
       "<div>\n",
       "<style scoped>\n",
       "    .dataframe tbody tr th:only-of-type {\n",
       "        vertical-align: middle;\n",
       "    }\n",
       "\n",
       "    .dataframe tbody tr th {\n",
       "        vertical-align: top;\n",
       "    }\n",
       "\n",
       "    .dataframe thead th {\n",
       "        text-align: right;\n",
       "    }\n",
       "</style>\n",
       "<table border=\"1\" class=\"dataframe\">\n",
       "  <thead>\n",
       "    <tr style=\"text-align: right;\">\n",
       "      <th></th>\n",
       "      <th>REGISTRATION_NO</th>\n",
       "      <th>Date Registered</th>\n",
       "      <th>DATE OF EXAM OCC</th>\n",
       "      <th>TIME OCC</th>\n",
       "      <th>Age</th>\n",
       "      <th>Sex</th>\n",
       "      <th>hour</th>\n",
       "      <th>period</th>\n",
       "      <th>Age Group</th>\n",
       "    </tr>\n",
       "  </thead>\n",
       "  <tbody>\n",
       "    <tr>\n",
       "      <th>0</th>\n",
       "      <td>221412410</td>\n",
       "      <td>6/15/2022</td>\n",
       "      <td>11/12/2020</td>\n",
       "      <td>17.00</td>\n",
       "      <td>0</td>\n",
       "      <td>NaN</td>\n",
       "      <td>17</td>\n",
       "      <td>Day</td>\n",
       "      <td>0-17</td>\n",
       "    </tr>\n",
       "    <tr>\n",
       "      <th>1</th>\n",
       "      <td>220314085</td>\n",
       "      <td>7/22/2022</td>\n",
       "      <td>5/12/2020</td>\n",
       "      <td>11.10</td>\n",
       "      <td>27</td>\n",
       "      <td>F</td>\n",
       "      <td>11</td>\n",
       "      <td>Day</td>\n",
       "      <td>26-34</td>\n",
       "    </tr>\n",
       "    <tr>\n",
       "      <th>2</th>\n",
       "      <td>222013040</td>\n",
       "      <td>8/6/2022</td>\n",
       "      <td>6/4/2020</td>\n",
       "      <td>16.20</td>\n",
       "      <td>60</td>\n",
       "      <td>M</td>\n",
       "      <td>16</td>\n",
       "      <td>Day</td>\n",
       "      <td>55-64</td>\n",
       "    </tr>\n",
       "    <tr>\n",
       "      <th>3</th>\n",
       "      <td>220614831</td>\n",
       "      <td>8/18/2022</td>\n",
       "      <td>8/17/2020</td>\n",
       "      <td>12.00</td>\n",
       "      <td>28</td>\n",
       "      <td>M</td>\n",
       "      <td>12</td>\n",
       "      <td>Day</td>\n",
       "      <td>26-34</td>\n",
       "    </tr>\n",
       "    <tr>\n",
       "      <th>4</th>\n",
       "      <td>231207725</td>\n",
       "      <td>2/27/2023</td>\n",
       "      <td>1/27/2020</td>\n",
       "      <td>6.35</td>\n",
       "      <td>37</td>\n",
       "      <td>M</td>\n",
       "      <td>6</td>\n",
       "      <td>Day</td>\n",
       "      <td>35-44</td>\n",
       "    </tr>\n",
       "    <tr>\n",
       "      <th>...</th>\n",
       "      <td>...</td>\n",
       "      <td>...</td>\n",
       "      <td>...</td>\n",
       "      <td>...</td>\n",
       "      <td>...</td>\n",
       "      <td>...</td>\n",
       "      <td>...</td>\n",
       "      <td>...</td>\n",
       "      <td>...</td>\n",
       "    </tr>\n",
       "    <tr>\n",
       "      <th>247983</th>\n",
       "      <td>231510379</td>\n",
       "      <td>5/29/2023</td>\n",
       "      <td>5/25/2023</td>\n",
       "      <td>11.00</td>\n",
       "      <td>25</td>\n",
       "      <td>M</td>\n",
       "      <td>11</td>\n",
       "      <td>Day</td>\n",
       "      <td>26-34</td>\n",
       "    </tr>\n",
       "    <tr>\n",
       "      <th>247984</th>\n",
       "      <td>231604807</td>\n",
       "      <td>1/27/2023</td>\n",
       "      <td>1/26/2023</td>\n",
       "      <td>18.00</td>\n",
       "      <td>23</td>\n",
       "      <td>M</td>\n",
       "      <td>18</td>\n",
       "      <td>Day</td>\n",
       "      <td>18-25</td>\n",
       "    </tr>\n",
       "    <tr>\n",
       "      <th>247985</th>\n",
       "      <td>231606525</td>\n",
       "      <td>3/22/2023</td>\n",
       "      <td>3/22/2023</td>\n",
       "      <td>10.00</td>\n",
       "      <td>25</td>\n",
       "      <td>F</td>\n",
       "      <td>10</td>\n",
       "      <td>Day</td>\n",
       "      <td>26-34</td>\n",
       "    </tr>\n",
       "    <tr>\n",
       "      <th>247986</th>\n",
       "      <td>231210064</td>\n",
       "      <td>4/12/2023</td>\n",
       "      <td>4/12/2023</td>\n",
       "      <td>16.30</td>\n",
       "      <td>29</td>\n",
       "      <td>M</td>\n",
       "      <td>16</td>\n",
       "      <td>Day</td>\n",
       "      <td>26-34</td>\n",
       "    </tr>\n",
       "    <tr>\n",
       "      <th>247987</th>\n",
       "      <td>230906458</td>\n",
       "      <td>3/5/2023</td>\n",
       "      <td>3/5/2023</td>\n",
       "      <td>9.00</td>\n",
       "      <td>53</td>\n",
       "      <td>F</td>\n",
       "      <td>9</td>\n",
       "      <td>Day</td>\n",
       "      <td>45-54</td>\n",
       "    </tr>\n",
       "  </tbody>\n",
       "</table>\n",
       "<p>247988 rows × 9 columns</p>\n",
       "</div>"
      ],
      "text/plain": [
       "        REGISTRATION_NO Date Registered DATE OF EXAM OCC  TIME OCC  Age  Sex   \n",
       "0             221412410       6/15/2022       11/12/2020     17.00    0  NaN  \\\n",
       "1             220314085       7/22/2022        5/12/2020     11.10   27    F   \n",
       "2             222013040        8/6/2022         6/4/2020     16.20   60    M   \n",
       "3             220614831       8/18/2022        8/17/2020     12.00   28    M   \n",
       "4             231207725       2/27/2023        1/27/2020      6.35   37    M   \n",
       "...                 ...             ...              ...       ...  ...  ...   \n",
       "247983        231510379       5/29/2023        5/25/2023     11.00   25    M   \n",
       "247984        231604807       1/27/2023        1/26/2023     18.00   23    M   \n",
       "247985        231606525       3/22/2023        3/22/2023     10.00   25    F   \n",
       "247986        231210064       4/12/2023        4/12/2023     16.30   29    M   \n",
       "247987        230906458        3/5/2023         3/5/2023      9.00   53    F   \n",
       "\n",
       "        hour period Age Group  \n",
       "0         17    Day      0-17  \n",
       "1         11    Day     26-34  \n",
       "2         16    Day     55-64  \n",
       "3         12    Day     26-34  \n",
       "4          6    Day     35-44  \n",
       "...      ...    ...       ...  \n",
       "247983    11    Day     26-34  \n",
       "247984    18    Day     18-25  \n",
       "247985    10    Day     26-34  \n",
       "247986    16    Day     26-34  \n",
       "247987     9    Day     45-54  \n",
       "\n",
       "[247988 rows x 9 columns]"
      ]
     },
     "execution_count": 25,
     "metadata": {},
     "output_type": "execute_result"
    }
   ],
   "source": [
    "df"
   ]
  },
  {
   "cell_type": "code",
   "execution_count": 26,
   "id": "3f2d89b0-95fc-434e-b80c-62f7a9da734a",
   "metadata": {},
   "outputs": [
    {
     "data": {
      "text/plain": [
       "<Axes: xlabel='Age Group'>"
      ]
     },
     "execution_count": 26,
     "metadata": {},
     "output_type": "execute_result"
    },
    {
     "data": {
      "image/png": "[encoded data removed]",
      "text/plain": [
       "<Figure size 640x480 with 1 Axes>"
      ]
     },
     "metadata": {},
     "output_type": "display_data"
    }
   ],
   "source": [
    "df['Age Group'].value_counts().sort_index().plot(kind = 'bar', color = ['blue', 'orange', 'yellow', 'green'])"
   ]
  },
  {
   "cell_type": "markdown",
   "id": "24920e36-3056-467e-8b2e-38c989d6c3dd",
   "metadata": {},
   "source": [
    "## CONCLUSION\n",
    "### From above graph we can say that Most Candidates who are scheduled to take exams has age between 0-17 "
   ]
  },
  {
   "cell_type": "code",
   "execution_count": null,
   "id": "22eb97f1-d31f-47d5-a50f-da165ecb6f97",
   "metadata": {},
   "outputs": [],
   "source": []
  }
 ],
 "metadata": {
  "kernelspec": {
   "display_name": "Python 3 (ipykernel)",
   "language": "python",
   "name": "python3"
  },
  "language_info": {
   "codemirror_mode": {
    "name": "ipython",
    "version": 3
   },
   "file_extension": ".py",
   "mimetype": "text/x-python",
   "name": "python",
   "nbconvert_exporter": "python",
   "pygments_lexer": "ipython3",
   "version": "3.11.5"
  }
 },
 "nbformat": 4,
 "nbformat_minor": 5
}
